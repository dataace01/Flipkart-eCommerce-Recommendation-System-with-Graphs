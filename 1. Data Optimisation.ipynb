{
 "cells": [
  {
   "cell_type": "code",
   "execution_count": 1,
   "id": "97848e36",
   "metadata": {},
   "outputs": [],
   "source": [
    "import pandas as pd\n",
    "import numpy as np\n",
    "import time\n",
    "\n",
    "start = time.time()"
   ]
  },
  {
   "cell_type": "markdown",
   "id": "f195d65c",
   "metadata": {},
   "source": [
    "### Read Compressed raw_csv with Pandas"
   ]
  },
  {
   "cell_type": "markdown",
   "id": "c5e1d9e5",
   "metadata": {},
   "source": [
    "Link to downaload raw_data.csv.gz: https://drive.google.com/file/d/1XfXqenvh2bws8g20sPK4Ti78_M9C0LF-/view?usp=sharing  "
   ]
  },
  {
   "cell_type": "markdown",
   "id": "c74860ed",
   "metadata": {},
   "source": [
    "Note: After dowanloading the data place it in Data folder"
   ]
  },
  {
   "cell_type": "code",
   "execution_count": 2,
   "id": "7568b0c3",
   "metadata": {},
   "outputs": [
    {
     "name": "stdout",
     "output_type": "stream",
     "text": [
      "CPU times: user 1min 50s, sys: 6.81 s, total: 1min 57s\n",
      "Wall time: 2min 4s\n"
     ]
    }
   ],
   "source": [
    "%%time\n",
    "df = pd.read_csv('../Data/raw_data.csv.gz', compression='gzip')\n",
    "len(df)"
   ]
  },
  {
   "cell_type": "code",
   "execution_count": 3,
   "id": "f4875e57",
   "metadata": {},
   "outputs": [
    {
     "data": {
      "text/html": [
       "<div>\n",
       "<style scoped>\n",
       "    .dataframe tbody tr th:only-of-type {\n",
       "        vertical-align: middle;\n",
       "    }\n",
       "\n",
       "    .dataframe tbody tr th {\n",
       "        vertical-align: top;\n",
       "    }\n",
       "\n",
       "    .dataframe thead th {\n",
       "        text-align: right;\n",
       "    }\n",
       "</style>\n",
       "<table border=\"1\" class=\"dataframe\">\n",
       "  <thead>\n",
       "    <tr style=\"text-align: right;\">\n",
       "      <th></th>\n",
       "      <th>event_time</th>\n",
       "      <th>event_type</th>\n",
       "      <th>product_id</th>\n",
       "      <th>category_id</th>\n",
       "      <th>category_code</th>\n",
       "      <th>brand</th>\n",
       "      <th>price</th>\n",
       "      <th>user_id</th>\n",
       "      <th>user_session</th>\n",
       "    </tr>\n",
       "  </thead>\n",
       "  <tbody>\n",
       "    <tr>\n",
       "      <th>0</th>\n",
       "      <td>2020-01-01 00:00:00 UTC</td>\n",
       "      <td>view</td>\n",
       "      <td>1005073</td>\n",
       "      <td>2232732093077520756</td>\n",
       "      <td>construction.tools.light</td>\n",
       "      <td>samsung</td>\n",
       "      <td>1130.02</td>\n",
       "      <td>519698804</td>\n",
       "      <td>69b5d72f-fd6e-4fed-aa23-1286b2ca89a0</td>\n",
       "    </tr>\n",
       "    <tr>\n",
       "      <th>1</th>\n",
       "      <td>2020-01-01 00:00:01 UTC</td>\n",
       "      <td>view</td>\n",
       "      <td>1005192</td>\n",
       "      <td>2232732093077520756</td>\n",
       "      <td>construction.tools.light</td>\n",
       "      <td>meizu</td>\n",
       "      <td>205.67</td>\n",
       "      <td>527767423</td>\n",
       "      <td>7f596032-ccbf-4643-9bad-e36a209512b4</td>\n",
       "    </tr>\n",
       "    <tr>\n",
       "      <th>2</th>\n",
       "      <td>2020-01-01 00:00:01 UTC</td>\n",
       "      <td>view</td>\n",
       "      <td>100063693</td>\n",
       "      <td>2053013552427434207</td>\n",
       "      <td>apparel.shirt</td>\n",
       "      <td>turtle</td>\n",
       "      <td>136.43</td>\n",
       "      <td>519046195</td>\n",
       "      <td>d1e2f343-84bb-49bd-b13d-ca0f1ed9910e</td>\n",
       "    </tr>\n",
       "    <tr>\n",
       "      <th>3</th>\n",
       "      <td>2020-01-01 00:00:01 UTC</td>\n",
       "      <td>view</td>\n",
       "      <td>5100816</td>\n",
       "      <td>2232732103831716449</td>\n",
       "      <td>apparel.shoes</td>\n",
       "      <td>xiaomi</td>\n",
       "      <td>29.95</td>\n",
       "      <td>518269232</td>\n",
       "      <td>0444841c-38ef-410c-b11f-7b35ea4e5991</td>\n",
       "    </tr>\n",
       "    <tr>\n",
       "      <th>4</th>\n",
       "      <td>2020-01-01 00:00:02 UTC</td>\n",
       "      <td>view</td>\n",
       "      <td>100014325</td>\n",
       "      <td>2232732103294845523</td>\n",
       "      <td>apparel.shoes.step_ins</td>\n",
       "      <td>intel</td>\n",
       "      <td>167.20</td>\n",
       "      <td>587748686</td>\n",
       "      <td>31b7d4cf-dfac-4895-9927-90fa3254f860</td>\n",
       "    </tr>\n",
       "    <tr>\n",
       "      <th>...</th>\n",
       "      <td>...</td>\n",
       "      <td>...</td>\n",
       "      <td>...</td>\n",
       "      <td>...</td>\n",
       "      <td>...</td>\n",
       "      <td>...</td>\n",
       "      <td>...</td>\n",
       "      <td>...</td>\n",
       "      <td>...</td>\n",
       "    </tr>\n",
       "    <tr>\n",
       "      <th>55967036</th>\n",
       "      <td>2020-01-31 23:59:59 UTC</td>\n",
       "      <td>view</td>\n",
       "      <td>5100833</td>\n",
       "      <td>2232732103831716449</td>\n",
       "      <td>apparel.shoes</td>\n",
       "      <td>xiaomi</td>\n",
       "      <td>33.72</td>\n",
       "      <td>517548219</td>\n",
       "      <td>37af3593-a086-4ad8-b6e5-8f87370d91e3</td>\n",
       "    </tr>\n",
       "    <tr>\n",
       "      <th>55967037</th>\n",
       "      <td>2020-01-31 23:59:59 UTC</td>\n",
       "      <td>view</td>\n",
       "      <td>1005239</td>\n",
       "      <td>2232732093077520756</td>\n",
       "      <td>construction.tools.light</td>\n",
       "      <td>xiaomi</td>\n",
       "      <td>228.83</td>\n",
       "      <td>512985520</td>\n",
       "      <td>4d185c67-1425-4f89-904e-bd156c840702</td>\n",
       "    </tr>\n",
       "    <tr>\n",
       "      <th>55967038</th>\n",
       "      <td>2020-01-31 23:59:59 UTC</td>\n",
       "      <td>view</td>\n",
       "      <td>100043202</td>\n",
       "      <td>2053013556521075159</td>\n",
       "      <td>apparel.shoes</td>\n",
       "      <td>respect</td>\n",
       "      <td>47.36</td>\n",
       "      <td>513043451</td>\n",
       "      <td>4d614d05-3b0c-4504-a75e-9e09715f737f</td>\n",
       "    </tr>\n",
       "    <tr>\n",
       "      <th>55967039</th>\n",
       "      <td>2020-01-31 23:59:59 UTC</td>\n",
       "      <td>view</td>\n",
       "      <td>2900565</td>\n",
       "      <td>2232732102103663163</td>\n",
       "      <td>furniture.bedroom.blanket</td>\n",
       "      <td>midea</td>\n",
       "      <td>51.30</td>\n",
       "      <td>581011571</td>\n",
       "      <td>a60355b0-eb87-4d42-a9ca-d4032c5b1ef5</td>\n",
       "    </tr>\n",
       "    <tr>\n",
       "      <th>55967040</th>\n",
       "      <td>2020-01-31 23:59:59 UTC</td>\n",
       "      <td>view</td>\n",
       "      <td>1004785</td>\n",
       "      <td>2232732093077520756</td>\n",
       "      <td>construction.tools.light</td>\n",
       "      <td>huawei</td>\n",
       "      <td>230.25</td>\n",
       "      <td>554528253</td>\n",
       "      <td>179fc2f1-8545-4011-a154-07e0e3b16d1e</td>\n",
       "    </tr>\n",
       "  </tbody>\n",
       "</table>\n",
       "<p>55967041 rows × 9 columns</p>\n",
       "</div>"
      ],
      "text/plain": [
       "                       event_time event_type  product_id          category_id  \\\n",
       "0         2020-01-01 00:00:00 UTC       view     1005073  2232732093077520756   \n",
       "1         2020-01-01 00:00:01 UTC       view     1005192  2232732093077520756   \n",
       "2         2020-01-01 00:00:01 UTC       view   100063693  2053013552427434207   \n",
       "3         2020-01-01 00:00:01 UTC       view     5100816  2232732103831716449   \n",
       "4         2020-01-01 00:00:02 UTC       view   100014325  2232732103294845523   \n",
       "...                           ...        ...         ...                  ...   \n",
       "55967036  2020-01-31 23:59:59 UTC       view     5100833  2232732103831716449   \n",
       "55967037  2020-01-31 23:59:59 UTC       view     1005239  2232732093077520756   \n",
       "55967038  2020-01-31 23:59:59 UTC       view   100043202  2053013556521075159   \n",
       "55967039  2020-01-31 23:59:59 UTC       view     2900565  2232732102103663163   \n",
       "55967040  2020-01-31 23:59:59 UTC       view     1004785  2232732093077520756   \n",
       "\n",
       "                      category_code    brand    price    user_id  \\\n",
       "0          construction.tools.light  samsung  1130.02  519698804   \n",
       "1          construction.tools.light    meizu   205.67  527767423   \n",
       "2                     apparel.shirt   turtle   136.43  519046195   \n",
       "3                     apparel.shoes   xiaomi    29.95  518269232   \n",
       "4            apparel.shoes.step_ins    intel   167.20  587748686   \n",
       "...                             ...      ...      ...        ...   \n",
       "55967036              apparel.shoes   xiaomi    33.72  517548219   \n",
       "55967037   construction.tools.light   xiaomi   228.83  512985520   \n",
       "55967038              apparel.shoes  respect    47.36  513043451   \n",
       "55967039  furniture.bedroom.blanket    midea    51.30  581011571   \n",
       "55967040   construction.tools.light   huawei   230.25  554528253   \n",
       "\n",
       "                                  user_session  \n",
       "0         69b5d72f-fd6e-4fed-aa23-1286b2ca89a0  \n",
       "1         7f596032-ccbf-4643-9bad-e36a209512b4  \n",
       "2         d1e2f343-84bb-49bd-b13d-ca0f1ed9910e  \n",
       "3         0444841c-38ef-410c-b11f-7b35ea4e5991  \n",
       "4         31b7d4cf-dfac-4895-9927-90fa3254f860  \n",
       "...                                        ...  \n",
       "55967036  37af3593-a086-4ad8-b6e5-8f87370d91e3  \n",
       "55967037  4d185c67-1425-4f89-904e-bd156c840702  \n",
       "55967038  4d614d05-3b0c-4504-a75e-9e09715f737f  \n",
       "55967039  a60355b0-eb87-4d42-a9ca-d4032c5b1ef5  \n",
       "55967040  179fc2f1-8545-4011-a154-07e0e3b16d1e  \n",
       "\n",
       "[55967041 rows x 9 columns]"
      ]
     },
     "execution_count": 3,
     "metadata": {},
     "output_type": "execute_result"
    }
   ],
   "source": [
    "df"
   ]
  },
  {
   "cell_type": "code",
   "execution_count": 4,
   "id": "f3b06f99",
   "metadata": {},
   "outputs": [
    {
     "data": {
      "text/plain": [
       "event_time             0\n",
       "event_type             0\n",
       "product_id             0\n",
       "category_id            0\n",
       "category_code    5044890\n",
       "brand            6540255\n",
       "price                  0\n",
       "user_id                0\n",
       "user_session          19\n",
       "dtype: int64"
      ]
     },
     "execution_count": 4,
     "metadata": {},
     "output_type": "execute_result"
    }
   ],
   "source": [
    "df.isnull().sum()"
   ]
  },
  {
   "cell_type": "markdown",
   "id": "51383606",
   "metadata": {},
   "source": [
    "### 55M+ Rows of Data | Evaluate Memory Usage"
   ]
  },
  {
   "cell_type": "code",
   "execution_count": 5,
   "id": "8ffa0615",
   "metadata": {},
   "outputs": [
    {
     "data": {
      "text/plain": [
       "event_time       4477363280\n",
       "event_type       3417329529\n",
       "product_id        447736328\n",
       "category_id       447736328\n",
       "category_code    4203242491\n",
       "brand            3324321930\n",
       "price             447736328\n",
       "user_id           447736328\n",
       "user_session     5204933654\n",
       "dtype: int64"
      ]
     },
     "execution_count": 5,
     "metadata": {},
     "output_type": "execute_result"
    }
   ],
   "source": [
    "df.memory_usage(index=False, deep=True)"
   ]
  },
  {
   "cell_type": "code",
   "execution_count": 6,
   "id": "94714dde",
   "metadata": {},
   "outputs": [
    {
     "name": "stdout",
     "output_type": "stream",
     "text": [
      "<class 'pandas.core.frame.DataFrame'>\n",
      "RangeIndex: 55967041 entries, 0 to 55967040\n",
      "Data columns (total 9 columns):\n",
      " #   Column         Dtype  \n",
      "---  ------         -----  \n",
      " 0   event_time     object \n",
      " 1   event_type     object \n",
      " 2   product_id     int64  \n",
      " 3   category_id    int64  \n",
      " 4   category_code  object \n",
      " 5   brand          object \n",
      " 6   price          float64\n",
      " 7   user_id        int64  \n",
      " 8   user_session   object \n",
      "dtypes: float64(1), int64(3), object(5)\n",
      "memory usage: 3.8+ GB\n"
     ]
    }
   ],
   "source": [
    "df.info()"
   ]
  },
  {
   "cell_type": "markdown",
   "id": "ab4578af",
   "metadata": {},
   "source": [
    "### Memory Usage is high as expected for 55M+ rows; for production friendly code we need to optimise and lower memory usage by dataframe as much as possible. (By default pandas alot int64, float64 and object dtypes.)"
   ]
  },
  {
   "cell_type": "code",
   "execution_count": 7,
   "id": "40b5ca3a",
   "metadata": {},
   "outputs": [
    {
     "name": "stdout",
     "output_type": "stream",
     "text": [
      "0.1417524558492005\n",
      "0.023306243354454637\n",
      "5.993223749101162e-07\n",
      "520650863.3183595\n"
     ]
    }
   ],
   "source": [
    "print(df['user_id'].max()/(2**32))\n",
    "print(df['product_id'].max()/(2**32))\n",
    "print(df['price'].max()/(2**32))\n",
    "print(df['category_id'].max()/(2**32))\n",
    "\n",
    "assert df['product_id'].max()/(2**32) < 1\n",
    "assert df['user_id'].max()/(2**32) < 1\n",
    "assert df['price'].max()/(2**32) < 1"
   ]
  },
  {
   "cell_type": "code",
   "execution_count": 8,
   "id": "15c3bf1f",
   "metadata": {},
   "outputs": [
    {
     "data": {
      "text/html": [
       "<div>\n",
       "<style scoped>\n",
       "    .dataframe tbody tr th:only-of-type {\n",
       "        vertical-align: middle;\n",
       "    }\n",
       "\n",
       "    .dataframe tbody tr th {\n",
       "        vertical-align: top;\n",
       "    }\n",
       "\n",
       "    .dataframe thead th {\n",
       "        text-align: right;\n",
       "    }\n",
       "</style>\n",
       "<table border=\"1\" class=\"dataframe\">\n",
       "  <thead>\n",
       "    <tr style=\"text-align: right;\">\n",
       "      <th></th>\n",
       "      <th>event_time</th>\n",
       "      <th>event_type</th>\n",
       "      <th>product_id</th>\n",
       "      <th>category_id</th>\n",
       "      <th>category_code</th>\n",
       "      <th>brand</th>\n",
       "      <th>price</th>\n",
       "      <th>user_id</th>\n",
       "      <th>user_session</th>\n",
       "    </tr>\n",
       "  </thead>\n",
       "  <tbody>\n",
       "    <tr>\n",
       "      <th>0</th>\n",
       "      <td>2020-01-01 00:00:00 UTC</td>\n",
       "      <td>view</td>\n",
       "      <td>1005073</td>\n",
       "      <td>2232732093077520756</td>\n",
       "      <td>construction.tools.light</td>\n",
       "      <td>samsung</td>\n",
       "      <td>1130.02</td>\n",
       "      <td>519698804</td>\n",
       "      <td>69b5d72f-fd6e-4fed-aa23-1286b2ca89a0</td>\n",
       "    </tr>\n",
       "    <tr>\n",
       "      <th>1</th>\n",
       "      <td>2020-01-01 00:00:01 UTC</td>\n",
       "      <td>view</td>\n",
       "      <td>1005192</td>\n",
       "      <td>2232732093077520756</td>\n",
       "      <td>construction.tools.light</td>\n",
       "      <td>meizu</td>\n",
       "      <td>205.67</td>\n",
       "      <td>527767423</td>\n",
       "      <td>7f596032-ccbf-4643-9bad-e36a209512b4</td>\n",
       "    </tr>\n",
       "    <tr>\n",
       "      <th>2</th>\n",
       "      <td>2020-01-01 00:00:01 UTC</td>\n",
       "      <td>view</td>\n",
       "      <td>100063693</td>\n",
       "      <td>2053013552427434207</td>\n",
       "      <td>apparel.shirt</td>\n",
       "      <td>turtle</td>\n",
       "      <td>136.43</td>\n",
       "      <td>519046195</td>\n",
       "      <td>d1e2f343-84bb-49bd-b13d-ca0f1ed9910e</td>\n",
       "    </tr>\n",
       "    <tr>\n",
       "      <th>3</th>\n",
       "      <td>2020-01-01 00:00:01 UTC</td>\n",
       "      <td>view</td>\n",
       "      <td>5100816</td>\n",
       "      <td>2232732103831716449</td>\n",
       "      <td>apparel.shoes</td>\n",
       "      <td>xiaomi</td>\n",
       "      <td>29.95</td>\n",
       "      <td>518269232</td>\n",
       "      <td>0444841c-38ef-410c-b11f-7b35ea4e5991</td>\n",
       "    </tr>\n",
       "    <tr>\n",
       "      <th>4</th>\n",
       "      <td>2020-01-01 00:00:02 UTC</td>\n",
       "      <td>view</td>\n",
       "      <td>100014325</td>\n",
       "      <td>2232732103294845523</td>\n",
       "      <td>apparel.shoes.step_ins</td>\n",
       "      <td>intel</td>\n",
       "      <td>167.20</td>\n",
       "      <td>587748686</td>\n",
       "      <td>31b7d4cf-dfac-4895-9927-90fa3254f860</td>\n",
       "    </tr>\n",
       "    <tr>\n",
       "      <th>...</th>\n",
       "      <td>...</td>\n",
       "      <td>...</td>\n",
       "      <td>...</td>\n",
       "      <td>...</td>\n",
       "      <td>...</td>\n",
       "      <td>...</td>\n",
       "      <td>...</td>\n",
       "      <td>...</td>\n",
       "      <td>...</td>\n",
       "    </tr>\n",
       "    <tr>\n",
       "      <th>55967036</th>\n",
       "      <td>2020-01-31 23:59:59 UTC</td>\n",
       "      <td>view</td>\n",
       "      <td>5100833</td>\n",
       "      <td>2232732103831716449</td>\n",
       "      <td>apparel.shoes</td>\n",
       "      <td>xiaomi</td>\n",
       "      <td>33.72</td>\n",
       "      <td>517548219</td>\n",
       "      <td>37af3593-a086-4ad8-b6e5-8f87370d91e3</td>\n",
       "    </tr>\n",
       "    <tr>\n",
       "      <th>55967037</th>\n",
       "      <td>2020-01-31 23:59:59 UTC</td>\n",
       "      <td>view</td>\n",
       "      <td>1005239</td>\n",
       "      <td>2232732093077520756</td>\n",
       "      <td>construction.tools.light</td>\n",
       "      <td>xiaomi</td>\n",
       "      <td>228.83</td>\n",
       "      <td>512985520</td>\n",
       "      <td>4d185c67-1425-4f89-904e-bd156c840702</td>\n",
       "    </tr>\n",
       "    <tr>\n",
       "      <th>55967038</th>\n",
       "      <td>2020-01-31 23:59:59 UTC</td>\n",
       "      <td>view</td>\n",
       "      <td>100043202</td>\n",
       "      <td>2053013556521075159</td>\n",
       "      <td>apparel.shoes</td>\n",
       "      <td>respect</td>\n",
       "      <td>47.36</td>\n",
       "      <td>513043451</td>\n",
       "      <td>4d614d05-3b0c-4504-a75e-9e09715f737f</td>\n",
       "    </tr>\n",
       "    <tr>\n",
       "      <th>55967039</th>\n",
       "      <td>2020-01-31 23:59:59 UTC</td>\n",
       "      <td>view</td>\n",
       "      <td>2900565</td>\n",
       "      <td>2232732102103663163</td>\n",
       "      <td>furniture.bedroom.blanket</td>\n",
       "      <td>midea</td>\n",
       "      <td>51.30</td>\n",
       "      <td>581011571</td>\n",
       "      <td>a60355b0-eb87-4d42-a9ca-d4032c5b1ef5</td>\n",
       "    </tr>\n",
       "    <tr>\n",
       "      <th>55967040</th>\n",
       "      <td>2020-01-31 23:59:59 UTC</td>\n",
       "      <td>view</td>\n",
       "      <td>1004785</td>\n",
       "      <td>2232732093077520756</td>\n",
       "      <td>construction.tools.light</td>\n",
       "      <td>huawei</td>\n",
       "      <td>230.25</td>\n",
       "      <td>554528253</td>\n",
       "      <td>179fc2f1-8545-4011-a154-07e0e3b16d1e</td>\n",
       "    </tr>\n",
       "  </tbody>\n",
       "</table>\n",
       "<p>55967041 rows × 9 columns</p>\n",
       "</div>"
      ],
      "text/plain": [
       "                       event_time event_type  product_id          category_id  \\\n",
       "0         2020-01-01 00:00:00 UTC       view     1005073  2232732093077520756   \n",
       "1         2020-01-01 00:00:01 UTC       view     1005192  2232732093077520756   \n",
       "2         2020-01-01 00:00:01 UTC       view   100063693  2053013552427434207   \n",
       "3         2020-01-01 00:00:01 UTC       view     5100816  2232732103831716449   \n",
       "4         2020-01-01 00:00:02 UTC       view   100014325  2232732103294845523   \n",
       "...                           ...        ...         ...                  ...   \n",
       "55967036  2020-01-31 23:59:59 UTC       view     5100833  2232732103831716449   \n",
       "55967037  2020-01-31 23:59:59 UTC       view     1005239  2232732093077520756   \n",
       "55967038  2020-01-31 23:59:59 UTC       view   100043202  2053013556521075159   \n",
       "55967039  2020-01-31 23:59:59 UTC       view     2900565  2232732102103663163   \n",
       "55967040  2020-01-31 23:59:59 UTC       view     1004785  2232732093077520756   \n",
       "\n",
       "                      category_code    brand    price    user_id  \\\n",
       "0          construction.tools.light  samsung  1130.02  519698804   \n",
       "1          construction.tools.light    meizu   205.67  527767423   \n",
       "2                     apparel.shirt   turtle   136.43  519046195   \n",
       "3                     apparel.shoes   xiaomi    29.95  518269232   \n",
       "4            apparel.shoes.step_ins    intel   167.20  587748686   \n",
       "...                             ...      ...      ...        ...   \n",
       "55967036              apparel.shoes   xiaomi    33.72  517548219   \n",
       "55967037   construction.tools.light   xiaomi   228.83  512985520   \n",
       "55967038              apparel.shoes  respect    47.36  513043451   \n",
       "55967039  furniture.bedroom.blanket    midea    51.30  581011571   \n",
       "55967040   construction.tools.light   huawei   230.25  554528253   \n",
       "\n",
       "                                  user_session  \n",
       "0         69b5d72f-fd6e-4fed-aa23-1286b2ca89a0  \n",
       "1         7f596032-ccbf-4643-9bad-e36a209512b4  \n",
       "2         d1e2f343-84bb-49bd-b13d-ca0f1ed9910e  \n",
       "3         0444841c-38ef-410c-b11f-7b35ea4e5991  \n",
       "4         31b7d4cf-dfac-4895-9927-90fa3254f860  \n",
       "...                                        ...  \n",
       "55967036  37af3593-a086-4ad8-b6e5-8f87370d91e3  \n",
       "55967037  4d185c67-1425-4f89-904e-bd156c840702  \n",
       "55967038  4d614d05-3b0c-4504-a75e-9e09715f737f  \n",
       "55967039  a60355b0-eb87-4d42-a9ca-d4032c5b1ef5  \n",
       "55967040  179fc2f1-8545-4011-a154-07e0e3b16d1e  \n",
       "\n",
       "[55967041 rows x 9 columns]"
      ]
     },
     "execution_count": 8,
     "metadata": {},
     "output_type": "execute_result"
    }
   ],
   "source": [
    "df"
   ]
  },
  {
   "cell_type": "code",
   "execution_count": 9,
   "id": "696ed7fa",
   "metadata": {},
   "outputs": [],
   "source": [
    "d = {'product_id': 'int32', 'user_id': 'int32', 'event_type': 'category', 'price':'float32'}\n",
    "df = df.astype(d)"
   ]
  },
  {
   "cell_type": "code",
   "execution_count": 10,
   "id": "230ec988",
   "metadata": {},
   "outputs": [
    {
     "name": "stdout",
     "output_type": "stream",
     "text": [
      "<class 'pandas.core.frame.DataFrame'>\n",
      "RangeIndex: 55967041 entries, 0 to 55967040\n",
      "Data columns (total 9 columns):\n",
      " #   Column         Dtype   \n",
      "---  ------         -----   \n",
      " 0   event_time     object  \n",
      " 1   event_type     category\n",
      " 2   product_id     int32   \n",
      " 3   category_id    int64   \n",
      " 4   category_code  object  \n",
      " 5   brand          object  \n",
      " 6   price          float32 \n",
      " 7   user_id        int32   \n",
      " 8   user_session   object  \n",
      "dtypes: category(1), float32(1), int32(2), int64(1), object(4)\n",
      "memory usage: 2.8+ GB\n"
     ]
    }
   ],
   "source": [
    "df.info()"
   ]
  },
  {
   "cell_type": "code",
   "execution_count": 11,
   "id": "3ac69076",
   "metadata": {},
   "outputs": [
    {
     "data": {
      "text/plain": [
       "event_time       4477363280\n",
       "event_type         55967336\n",
       "product_id        223868164\n",
       "category_id       447736328\n",
       "category_code    4203242491\n",
       "brand            3324321930\n",
       "price             223868164\n",
       "user_id           223868164\n",
       "user_session     5204933654\n",
       "dtype: int64"
      ]
     },
     "execution_count": 11,
     "metadata": {},
     "output_type": "execute_result"
    }
   ],
   "source": [
    "df.memory_usage(index=False, deep=True)"
   ]
  },
  {
   "cell_type": "markdown",
   "id": "6ab4a113",
   "metadata": {},
   "source": [
    "### Approx. 30% reduction in memory usage by tweaking dtypes. \n",
    "#### One can also use alternate method to read pandas df\n",
    "`df = pd.read_csv('../Data/raw_data.csv.gz', compression='gzip', dtype = {'product_id': 'int32', 'user_id': 'int32', 'event_type': 'category', 'price':'float32'})`"
   ]
  },
  {
   "cell_type": "code",
   "execution_count": 12,
   "id": "9c2322ac",
   "metadata": {},
   "outputs": [],
   "source": [
    "# df = pd.read_csv('../Data/raw_data.csv.gz', compression='gzip', dtype = {'product_id': 'int32', 'user_id': 'int32', 'event_type': 'category', 'price':'float32'})\n",
    "# df.memory_usage(index=False, deep=True)"
   ]
  },
  {
   "cell_type": "markdown",
   "id": "99d7861b",
   "metadata": {},
   "source": [
    "### When you only pay for the queries that you run, or resources like CPU and storage, it is important to look at optimizing the data those systems rely on.\n",
    "\n",
    "#### Post Change in Dtypes Change; we store data in parquet columnar format. \n",
    "\n",
    "\n"
   ]
  },
  {
   "cell_type": "code",
   "execution_count": 13,
   "id": "992bdbc8",
   "metadata": {},
   "outputs": [],
   "source": [
    "df.to_parquet('../Data/optimised_raw_data.parquet',index=False)"
   ]
  },
  {
   "cell_type": "code",
   "execution_count": 14,
   "id": "9fe96e43",
   "metadata": {},
   "outputs": [
    {
     "name": "stdout",
     "output_type": "stream",
     "text": [
      "Process Took: 4.18mins\n"
     ]
    }
   ],
   "source": [
    "print(\"Process Took: {}mins\".format( round((time.time()-start)/60, 2) ))"
   ]
  },
  {
   "cell_type": "markdown",
   "id": "eb617f35",
   "metadata": {},
   "source": [
    "Link to download optimised_raw_data.parquet: https://drive.google.com/file/d/1yk-LIz0iDRR2eZlUPzGlCzOcW4L4cQ4b/view?usp=sharing\n",
    "\n",
    "Note: After downloading place it in Data folder\n"
   ]
  },
  {
   "cell_type": "code",
   "execution_count": 15,
   "id": "0a9f2140",
   "metadata": {},
   "outputs": [
    {
     "name": "stdout",
     "output_type": "stream",
     "text": [
      "CPU times: user 36.4 s, sys: 23 s, total: 59.3 s\n",
      "Wall time: 54 s\n"
     ]
    }
   ],
   "source": [
    "%%time\n",
    "new_df = pd.read_parquet('../Data/optimised_raw_data.parquet')\n",
    "len(new_df)"
   ]
  },
  {
   "cell_type": "code",
   "execution_count": 16,
   "id": "229dcc6e",
   "metadata": {},
   "outputs": [
    {
     "name": "stdout",
     "output_type": "stream",
     "text": [
      "<class 'pandas.core.frame.DataFrame'>\n",
      "RangeIndex: 55967041 entries, 0 to 55967040\n",
      "Data columns (total 9 columns):\n",
      " #   Column         Dtype   \n",
      "---  ------         -----   \n",
      " 0   event_time     object  \n",
      " 1   event_type     category\n",
      " 2   product_id     int32   \n",
      " 3   category_id    int64   \n",
      " 4   category_code  object  \n",
      " 5   brand          object  \n",
      " 6   price          float32 \n",
      " 7   user_id        int32   \n",
      " 8   user_session   object  \n",
      "dtypes: category(1), float32(1), int32(2), int64(1), object(4)\n",
      "memory usage: 2.8+ GB\n"
     ]
    }
   ],
   "source": [
    "new_df.info()"
   ]
  },
  {
   "cell_type": "code",
   "execution_count": 17,
   "id": "737cdaa7",
   "metadata": {},
   "outputs": [
    {
     "name": "stdout",
     "output_type": "stream",
     "text": [
      "  0B\t../Data/Constructed Graph\r\n",
      "2.0G\t../Data/optimised_raw_data.parquet\r\n",
      "2.2G\t../Data/raw_data.csv.gz\r\n"
     ]
    }
   ],
   "source": [
    "!du -sh ../Data/*"
   ]
  },
  {
   "cell_type": "markdown",
   "id": "57ae5453",
   "metadata": {},
   "source": [
    "### Hence Proved. Parquet Format takes less time to load, preserves schema and takes lesser storage when compraed with CSV or CSV compressed formats"
   ]
  },
  {
   "cell_type": "code",
   "execution_count": null,
   "id": "8506dda6",
   "metadata": {},
   "outputs": [],
   "source": []
  }
 ],
 "metadata": {
  "kernelspec": {
   "display_name": "Python 3",
   "language": "python",
   "name": "python3"
  },
  "language_info": {
   "codemirror_mode": {
    "name": "ipython",
    "version": 3
   },
   "file_extension": ".py",
   "mimetype": "text/x-python",
   "name": "python",
   "nbconvert_exporter": "python",
   "pygments_lexer": "ipython3",
   "version": "3.8.8"
  }
 },
 "nbformat": 4,
 "nbformat_minor": 5
}
